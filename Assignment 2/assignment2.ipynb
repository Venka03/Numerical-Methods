{
 "cells": [
  {
   "cell_type": "code",
   "execution_count": 73,
   "metadata": {
    "collapsed": true,
    "pycharm": {
     "name": "#%%\n"
    }
   },
   "outputs": [],
   "source": [
    "import numpy as np\n",
    "from math import factorial\n",
    "\n",
    "def coefficientMatrix(num_equation):\n",
    "    coefMatrix = np.zeros((num_equation, num_equation))\n",
    "    for q in range(num_equation):\n",
    "        for j in range(num_equation):\n",
    "            coefMatrix[q, j] = np.power(j, q) / factorial(q)\n",
    "    return coefMatrix\n",
    "\n",
    "def Adams(r, name):\n",
    "    alpha = np.zeros(r+1)\n",
    "    beta = np.zeros(r+1)\n",
    "    alpha[r] = 1\n",
    "    alpha[r-1] = -1\n",
    "    num_equations = r + 1\n",
    "    if \"Bashforth\" in name:\n",
    "        num_equations -= 1\n",
    "    B = coefficientMatrix(num_equations)\n",
    "    A = np.array([(np.power(r, q+1) - np.power(r-1, q+1)) / factorial(q+1) for q in range(num_equations)])\n",
    "    beta[:num_equations] = np.linalg.solve(B, A)\n",
    "    return alpha, beta"
   ]
  },
  {
   "cell_type": "code",
   "execution_count": 74,
   "outputs": [],
   "source": [
    "### Backward Differentiation Formulas\n",
    "def BackwardDifferentiation(r):\n",
    "    A = coefficientMatrix(r+1)\n",
    "    B = np.array([0.] + [np.power(r, i-1) / factorial(i-1) for i in range(1, r+1)]) # we assume that betta_r value is one\n",
    "    alpha = np.linalg.solve(A, B)\n",
    "    beta = np.zeros(r+1)\n",
    "    beta[-1] = 1\n",
    "    return alpha, beta"
   ],
   "metadata": {
    "collapsed": false,
    "pycharm": {
     "name": "#%%\n"
    }
   }
  },
  {
   "cell_type": "code",
   "execution_count": 75,
   "outputs": [],
   "source": [
    "def AlphaBetaCoefficients(r: int, method: str):\n",
    "    if method == \"Backward Differentiation\":\n",
    "        alpha, beta = BackwardDifferentiation(r)\n",
    "    elif method in [\"Adams-Bashforth\", \"Adams-Moulton\"]:\n",
    "        alpha, beta = Adams(r, method)\n",
    "    else:\n",
    "        raise \"Wrong input method\"\n",
    "    return alpha, beta"
   ],
   "metadata": {
    "collapsed": false,
    "pycharm": {
     "name": "#%%\n"
    }
   }
  },
  {
   "cell_type": "code",
   "execution_count": 76,
   "outputs": [],
   "source": [
    "def printCoefficients(alpha, beta):\n",
    "    # Print the header\n",
    "    print(f\"{'Index':<6} {'Alpha':<10} {'Beta':<10}\")\n",
    "    print(\"-\" * 30)\n",
    "\n",
    "    # Print the values in column format\n",
    "    for i, (a, b) in enumerate(zip(alpha, beta)):\n",
    "        print(f\"{i:<6} {a:<10.5f} {b:<10.5f}\")"
   ],
   "metadata": {
    "collapsed": false,
    "pycharm": {
     "name": "#%%\n"
    }
   }
  },
  {
   "cell_type": "code",
   "execution_count": 77,
   "outputs": [
    {
     "name": "stdout",
     "output_type": "stream",
     "text": [
      "Adams-Bashforth Method\n",
      "Index  Alpha      Beta      \n",
      "------------------------------\n",
      "0      -1.00000   1.00000   \n",
      "1      1.00000    0.00000   \n",
      "Index  Alpha      Beta      \n",
      "------------------------------\n",
      "0      0.00000    -0.50000  \n",
      "1      -1.00000   1.50000   \n",
      "2      1.00000    0.00000   \n",
      "Index  Alpha      Beta      \n",
      "------------------------------\n",
      "0      0.00000    0.41667   \n",
      "1      0.00000    -1.33333  \n",
      "2      -1.00000   1.91667   \n",
      "3      1.00000    0.00000   \n",
      "Index  Alpha      Beta      \n",
      "------------------------------\n",
      "0      0.00000    -0.37500  \n",
      "1      0.00000    1.54167   \n",
      "2      0.00000    -2.45833  \n",
      "3      -1.00000   2.29167   \n",
      "4      1.00000    0.00000   \n"
     ]
    }
   ],
   "source": [
    "print(\"Adams-Bashforth Method\")\n",
    "for r in range(1, 5):\n",
    "    alpha, beta = AlphaBetaCoefficients(r, \"Adams-Bashforth\")\n",
    "    printCoefficients(alpha, beta)"
   ],
   "metadata": {
    "collapsed": false,
    "pycharm": {
     "name": "#%%\n"
    }
   }
  },
  {
   "cell_type": "code",
   "execution_count": 78,
   "outputs": [
    {
     "name": "stdout",
     "output_type": "stream",
     "text": [
      "Adams-Moulton Method\n",
      "Index  Alpha      Beta      \n",
      "------------------------------\n",
      "0      -1.00000   0.50000   \n",
      "1      1.00000    0.50000   \n",
      "Index  Alpha      Beta      \n",
      "------------------------------\n",
      "0      0.00000    -0.08333  \n",
      "1      -1.00000   0.66667   \n",
      "2      1.00000    0.41667   \n",
      "Index  Alpha      Beta      \n",
      "------------------------------\n",
      "0      0.00000    0.04167   \n",
      "1      0.00000    -0.20833  \n",
      "2      -1.00000   0.79167   \n",
      "3      1.00000    0.37500   \n",
      "Index  Alpha      Beta      \n",
      "------------------------------\n",
      "0      0.00000    -0.02639  \n",
      "1      0.00000    0.14722   \n",
      "2      0.00000    -0.36667  \n",
      "3      -1.00000   0.89722   \n",
      "4      1.00000    0.34861   \n"
     ]
    }
   ],
   "source": [
    "print(\"Adams-Moulton Method\")\n",
    "for r in range(1, 5):\n",
    "    alpha, beta = AlphaBetaCoefficients(r, \"Adams-Moulton\")\n",
    "    printCoefficients(alpha, beta)"
   ],
   "metadata": {
    "collapsed": false,
    "pycharm": {
     "name": "#%%\n"
    }
   }
  },
  {
   "cell_type": "code",
   "execution_count": 79,
   "outputs": [
    {
     "name": "stdout",
     "output_type": "stream",
     "text": [
      "Backward Differentiation Formulas Method\n",
      "Index  Alpha      Beta      \n",
      "------------------------------\n",
      "0      -1.00000   0.00000   \n",
      "1      1.00000    1.00000   \n",
      "Index  Alpha      Beta      \n",
      "------------------------------\n",
      "0      0.50000    0.00000   \n",
      "1      -2.00000   0.00000   \n",
      "2      1.50000    1.00000   \n",
      "Index  Alpha      Beta      \n",
      "------------------------------\n",
      "0      -0.33333   0.00000   \n",
      "1      1.50000    0.00000   \n",
      "2      -3.00000   0.00000   \n",
      "3      1.83333    1.00000   \n",
      "Index  Alpha      Beta      \n",
      "------------------------------\n",
      "0      0.25000    0.00000   \n",
      "1      -1.33333   0.00000   \n",
      "2      3.00000    0.00000   \n",
      "3      -4.00000   0.00000   \n",
      "4      2.08333    1.00000   \n"
     ]
    }
   ],
   "source": [
    "print(\"Backward Differentiation Formulas Method\")\n",
    "for r in range(1, 5):\n",
    "    alpha, beta = AlphaBetaCoefficients(r, \"Backward Differentiation\")\n",
    "    printCoefficients(alpha, beta)"
   ],
   "metadata": {
    "collapsed": false,
    "pycharm": {
     "name": "#%%\n"
    }
   }
  },
  {
   "cell_type": "code",
   "execution_count": null,
   "outputs": [],
   "source": [
    "#### Adams-Bashforth\n",
    "def AdamsBashforth(r):\n",
    "    a = np.zeros(r+1)\n",
    "    b = np.zeros(r+1)\n",
    "    a[r] = 1\n",
    "    a[r-1] = -1\n",
    "    b[r] = 0\n",
    "    A = np.zeros(r)\n",
    "    B = np.zeros((r, r))\n",
    "    A[0] = 1\n",
    "    B[0] = np.ones(r)\n",
    "    for q in range(1, r):\n",
    "        A[q] = (np.power(r, q+1) - np.power(r-1, q+1)) / factorial(q+1)\n",
    "        for j in range(r):\n",
    "            B[q, j] = np.power(j, q) / factorial(q)\n",
    "    b = np.linalg.solve(B, A)\n",
    "    return a, b\n",
    "\n",
    "#### Adams-Moulton\n",
    "def AdamsMoulton(r):\n",
    "    a = np.zeros(r+1)\n",
    "    b = np.zeros(r+1)\n",
    "    a[r] = 1\n",
    "    a[r-1] = -1\n",
    "    A = np.zeros(r+1)\n",
    "    B = np.zeros((r+1, r+1))\n",
    "    A[0] = 1\n",
    "    B[0] = np.ones(r+1)\n",
    "    for q in range(1, r+1):\n",
    "        A[q] = (np.power(r, q+1) - np.power(r-1, q+1)) / factorial(q+1)\n",
    "        for j in range(r+1):\n",
    "            B[q, j] = np.power(j, q) / factorial(q)\n",
    "    b = np.linalg.solve(B, A)\n",
    "    return a, b\n",
    "\n",
    "### Backward Differentiation Fr\n",
    "def BackwardDifferentiation(r):   # can be improved assuming that b=[0, 1, 2, 3, ...]\n",
    "    A = np.zeros((r+1, r+2))\n",
    "    A[0] = np.ones(r+2)\n",
    "    A[0][-1] = 0\n",
    "    for q in range(1, r+1):\n",
    "        for j in range(r+1):\n",
    "            A[q, j] = np.power(j, q) / factorial(q)\n",
    "        A[q, -1] = - np.power(r, q-1) / factorial(q-1)\n",
    "\n",
    "    # Perform Singular Value Decomposition (SVD)\n",
    "    U, s, Vt = np.linalg.svd(A)\n",
    "\n",
    "    # The last row of Vt corresponds to the null space of A (solution to A * x = 0)\n",
    "    null_space = Vt.T[:, -1]  # We take the last column of Vt.T as the null space\n",
    "    # Normalize the null space so that the first element is -1 (for simplicity)\n",
    "    null_space_normalized = null_space / null_space[0]\n",
    "    if null_space_normalized[-1] < 0:\n",
    "        null_space_normalized *= -1\n",
    "    alpha = null_space_normalized[:-1]\n",
    "    beta = np.zeros(r+1)\n",
    "    beta[-1] = null_space_normalized[-1]\n",
    "    return alpha, beta\n",
    "\n",
    "r = 4\n",
    "alpha, beta = BackwardDifferentiation(r)\n",
    "printCoefficients(alpha, beta)\n",
    "alpha, beta = AlphaBetaCoefficients(r, \"Backward Differentiation\")\n",
    "printCoefficients(alpha, beta)"
   ],
   "metadata": {
    "collapsed": false,
    "pycharm": {
     "name": "#%%\n"
    }
   }
  }
 ],
 "metadata": {
  "kernelspec": {
   "display_name": "Python 3",
   "language": "python",
   "name": "python3"
  },
  "language_info": {
   "codemirror_mode": {
    "name": "ipython",
    "version": 2
   },
   "file_extension": ".py",
   "mimetype": "text/x-python",
   "name": "python",
   "nbconvert_exporter": "python",
   "pygments_lexer": "ipython2",
   "version": "2.7.6"
  }
 },
 "nbformat": 4,
 "nbformat_minor": 0
}